{
 "cells": [
  {
   "cell_type": "code",
   "execution_count": 156,
   "metadata": {},
   "outputs": [],
   "source": [
    "import pandas as pd\n",
    "import numpy as np\n",
    "import matplotlib.pyplot as plt\n",
    "import seaborn as sns"
   ]
  },
  {
   "cell_type": "markdown",
   "metadata": {},
   "source": [
    "# Task\n",
    "\n",
    "The purpose of this notebook is to use imdb viewers' rating in order to better understand which episodes got higher rankings and the more important question - Why?\n",
    "\n",
    "Other than that, I will try to detect patterns in the data, for example: \"Is there any repeating motive in a specific director's episodes\"?\n",
    "\n",
    "The ranking related questions I will try to answer:\n",
    "1. Which season got the highest average ranking?\n",
    "2. Which episode got the highest average ranking?\n",
    "3. Which director got the highest average ranking? What was special about his episodes?"
   ]
  },
  {
   "cell_type": "markdown",
   "metadata": {},
   "source": [
    "First let's read our data and take a look on the features we have."
   ]
  },
  {
   "cell_type": "code",
   "execution_count": 157,
   "metadata": {
    "scrolled": false
   },
   "outputs": [
    {
     "data": {
      "text/html": [
       "<div>\n",
       "<style scoped>\n",
       "    .dataframe tbody tr th:only-of-type {\n",
       "        vertical-align: middle;\n",
       "    }\n",
       "\n",
       "    .dataframe tbody tr th {\n",
       "        vertical-align: top;\n",
       "    }\n",
       "\n",
       "    .dataframe thead th {\n",
       "        text-align: right;\n",
       "    }\n",
       "</style>\n",
       "<table border=\"1\" class=\"dataframe\">\n",
       "  <thead>\n",
       "    <tr style=\"text-align: right;\">\n",
       "      <th></th>\n",
       "      <th>Year_of_prod</th>\n",
       "      <th>Season</th>\n",
       "      <th>Episode_Title</th>\n",
       "      <th>Duration</th>\n",
       "      <th>Summary</th>\n",
       "      <th>Director</th>\n",
       "      <th>Stars</th>\n",
       "      <th>Votes</th>\n",
       "    </tr>\n",
       "  </thead>\n",
       "  <tbody>\n",
       "    <tr>\n",
       "      <th>0</th>\n",
       "      <td>1994</td>\n",
       "      <td>1</td>\n",
       "      <td>The One with the Sonogram at the End</td>\n",
       "      <td>22</td>\n",
       "      <td>Ross finds out his ex-wife is pregnant. Rachel...</td>\n",
       "      <td>James Burrows</td>\n",
       "      <td>8.1</td>\n",
       "      <td>4888</td>\n",
       "    </tr>\n",
       "    <tr>\n",
       "      <th>1</th>\n",
       "      <td>1994</td>\n",
       "      <td>1</td>\n",
       "      <td>The One with the Thumb</td>\n",
       "      <td>22</td>\n",
       "      <td>Monica becomes irritated when everyone likes h...</td>\n",
       "      <td>James Burrows</td>\n",
       "      <td>8.2</td>\n",
       "      <td>4605</td>\n",
       "    </tr>\n",
       "    <tr>\n",
       "      <th>2</th>\n",
       "      <td>1994</td>\n",
       "      <td>1</td>\n",
       "      <td>The One with George Stephanopoulos</td>\n",
       "      <td>22</td>\n",
       "      <td>Joey and Chandler take Ross to a hockey game t...</td>\n",
       "      <td>James Burrows</td>\n",
       "      <td>8.1</td>\n",
       "      <td>4468</td>\n",
       "    </tr>\n",
       "    <tr>\n",
       "      <th>3</th>\n",
       "      <td>1994</td>\n",
       "      <td>1</td>\n",
       "      <td>The One with the East German Laundry Detergent</td>\n",
       "      <td>22</td>\n",
       "      <td>Eager to spend time with Rachel, Ross pretends...</td>\n",
       "      <td>Pamela Fryman</td>\n",
       "      <td>8.5</td>\n",
       "      <td>4438</td>\n",
       "    </tr>\n",
       "    <tr>\n",
       "      <th>4</th>\n",
       "      <td>1994</td>\n",
       "      <td>1</td>\n",
       "      <td>The One with the Butt</td>\n",
       "      <td>22</td>\n",
       "      <td>Monica's obsessiveness is put to the test afte...</td>\n",
       "      <td>Arlene Sanford</td>\n",
       "      <td>8.1</td>\n",
       "      <td>4274</td>\n",
       "    </tr>\n",
       "  </tbody>\n",
       "</table>\n",
       "</div>"
      ],
      "text/plain": [
       "   Year_of_prod  Season                                   Episode_Title  \\\n",
       "0          1994       1            The One with the Sonogram at the End   \n",
       "1          1994       1                          The One with the Thumb   \n",
       "2          1994       1              The One with George Stephanopoulos   \n",
       "3          1994       1  The One with the East German Laundry Detergent   \n",
       "4          1994       1                           The One with the Butt   \n",
       "\n",
       "   Duration                                            Summary  \\\n",
       "0        22  Ross finds out his ex-wife is pregnant. Rachel...   \n",
       "1        22  Monica becomes irritated when everyone likes h...   \n",
       "2        22  Joey and Chandler take Ross to a hockey game t...   \n",
       "3        22  Eager to spend time with Rachel, Ross pretends...   \n",
       "4        22  Monica's obsessiveness is put to the test afte...   \n",
       "\n",
       "         Director  Stars  Votes  \n",
       "0   James Burrows    8.1   4888  \n",
       "1   James Burrows    8.2   4605  \n",
       "2   James Burrows    8.1   4468  \n",
       "3   Pamela Fryman    8.5   4438  \n",
       "4  Arlene Sanford    8.1   4274  "
      ]
     },
     "execution_count": 157,
     "metadata": {},
     "output_type": "execute_result"
    }
   ],
   "source": [
    "data = pd.read_csv(\"./friends.csv\")\n",
    "data.head()"
   ]
  },
  {
   "cell_type": "markdown",
   "metadata": {},
   "source": [
    "An interesting observation (below) is that even though we know that the \"Friends\" series became more and more popular over the years, the voting rates decrease as the years pass (except for season 10)."
   ]
  },
  {
   "cell_type": "code",
   "execution_count": 158,
   "metadata": {},
   "outputs": [
    {
     "data": {
      "text/plain": [
       "Text(0.5, 1.0, 'Average number of votes for each season')"
      ]
     },
     "execution_count": 158,
     "metadata": {},
     "output_type": "execute_result"
    },
    {
     "data": {
      "image/png": "[encoded data removed]",
      "text/plain": [
       "<Figure size 720x432 with 1 Axes>"
      ]
     },
     "metadata": {},
     "output_type": "display_data"
    }
   ],
   "source": [
    "votes = data.groupby('Season', as_index=False)['Votes'].mean().sort_values(by=['Votes'])\n",
    "\n",
    "plt.figure(figsize=(10,6))\n",
    "sns.set_style('darkgrid')\n",
    "\n",
    "sns.barplot(x='Season',y='Votes', data=votes, palette='inferno')\n",
    "plt.title(\"Average number of votes for each season\", fontsize=16)"
   ]
  },
  {
   "cell_type": "markdown",
   "metadata": {},
   "source": [
    "**Seasons**\n",
    "\n",
    "Let's see which seasons got the highest rankings."
   ]
  },
  {
   "cell_type": "code",
   "execution_count": 159,
   "metadata": {},
   "outputs": [
    {
     "data": {
      "text/plain": [
       "Text(0.5, 1.0, 'Average ranking for each season')"
      ]
     },
     "execution_count": 159,
     "metadata": {},
     "output_type": "execute_result"
    },
    {
     "data": {
      "image/png": "[encoded data removed]",
      "text/plain": [
       "<Figure size 720x432 with 1 Axes>"
      ]
     },
     "metadata": {},
     "output_type": "display_data"
    }
   ],
   "source": [
    "votes = data.groupby('Season', as_index=False)['Stars'].mean().sort_values(by=['Stars'])\n",
    "\n",
    "plt.figure(figsize=(10,6))\n",
    "sns.barplot(x='Season',y='Stars', data=votes, palette='inferno', orient='h')\n",
    "plt.title(\"Average ranking for each season\", fontsize=16)"
   ]
  },
  {
   "cell_type": "markdown",
   "metadata": {},
   "source": [
    "The 9th and 10th (last) seasons got the highest rankings and the 1st season got the lowest ranking.\n",
    "\n",
    "It is not much of a surprise since on the last season the viewer is much more attached to the plot and the characters of the series."
   ]
  },
  {
   "cell_type": "markdown",
   "metadata": {},
   "source": [
    "**Episodes**\n",
    "\n",
    "Which episodes were top ranked? Why? Let's find out!"
   ]
  },
  {
   "cell_type": "code",
   "execution_count": 160,
   "metadata": {},
   "outputs": [
    {
     "data": {
      "text/plain": [
       "Text(0.5, 1.0, 'Top 10 ranked episodes')"
      ]
     },
     "execution_count": 160,
     "metadata": {},
     "output_type": "execute_result"
    },
    {
     "data": {
      "image/png": "[encoded data removed]",
      "text/plain": [
       "<Figure size 720x432 with 1 Axes>"
      ]
     },
     "metadata": {},
     "output_type": "display_data"
    }
   ],
   "source": [
    "# Get top 10 ranked episodes\n",
    "top_ten = data[['Season', 'Episode_Title', 'Stars', 'Director']].sort_values(by=['Stars'], ascending=False).head(10)\n",
    "\n",
    "# The last episode had 2 parts, change the second part to Part 2.\n",
    "top_ten['Episode_Title'][233] = 'The last one (Part 2)'\n",
    "\n",
    "plt.figure(figsize=(10,6))\n",
    "sns.barplot(x='Stars',y='Episode_Title', data=top_ten, orient='h', palette=\"deep\")\n",
    "\n",
    "plt.xticks(np.arange(9,9.8, 0.1))\n",
    "plt.xlim(9,9.8)\n",
    "plt.title(\"Top 10 ranked episodes\", fontsize=16)"
   ]
  },
  {
   "cell_type": "markdown",
   "metadata": {},
   "source": [
    "From this plot we can conclude the following:\n",
    "1. Viewers loved the last episodes the most.\n",
    "2. Wedding related episodes were highly scored.\n",
    "3. Episodes where the plot focused on the relationships of Ross & Rachel / Chandler & Monica were highly scored."
   ]
  },
  {
   "cell_type": "markdown",
   "metadata": {},
   "source": [
    "**Directors**\n",
    "\n",
    "In my analysis I decided to consider only the directors who directed the biggest number of episodes. The motivation was that I didn't think it would be fair to compare directors with many episodes to those with a small number. (Would you compare career acheivements of a singer with 1 song to a singer with 3 albums?)"
   ]
  },
  {
   "cell_type": "code",
   "execution_count": 161,
   "metadata": {},
   "outputs": [
    {
     "data": {
      "text/html": [
       "<div>\n",
       "<style scoped>\n",
       "    .dataframe tbody tr th:only-of-type {\n",
       "        vertical-align: middle;\n",
       "    }\n",
       "\n",
       "    .dataframe tbody tr th {\n",
       "        vertical-align: top;\n",
       "    }\n",
       "\n",
       "    .dataframe thead th {\n",
       "        text-align: right;\n",
       "    }\n",
       "</style>\n",
       "<table border=\"1\" class=\"dataframe\">\n",
       "  <thead>\n",
       "    <tr style=\"text-align: right;\">\n",
       "      <th></th>\n",
       "      <th>Director</th>\n",
       "      <th>Num_episodes</th>\n",
       "    </tr>\n",
       "  </thead>\n",
       "  <tbody>\n",
       "    <tr>\n",
       "      <th>17</th>\n",
       "      <td>Gary Halvorson</td>\n",
       "      <td>54</td>\n",
       "    </tr>\n",
       "    <tr>\n",
       "      <th>9</th>\n",
       "      <td>Kevin Bright</td>\n",
       "      <td>54</td>\n",
       "    </tr>\n",
       "    <tr>\n",
       "      <th>6</th>\n",
       "      <td>Michael Lembeck</td>\n",
       "      <td>24</td>\n",
       "    </tr>\n",
       "    <tr>\n",
       "      <th>0</th>\n",
       "      <td>James Burrows</td>\n",
       "      <td>14</td>\n",
       "    </tr>\n",
       "    <tr>\n",
       "      <th>7</th>\n",
       "      <td>Gail Mancuso</td>\n",
       "      <td>14</td>\n",
       "    </tr>\n",
       "    <tr>\n",
       "      <th>3</th>\n",
       "      <td>Peter Bonerz</td>\n",
       "      <td>12</td>\n",
       "    </tr>\n",
       "    <tr>\n",
       "      <th>24</th>\n",
       "      <td>Ben Weiss</td>\n",
       "      <td>10</td>\n",
       "    </tr>\n",
       "    <tr>\n",
       "      <th>23</th>\n",
       "      <td>David Schwimmer</td>\n",
       "      <td>10</td>\n",
       "    </tr>\n",
       "    <tr>\n",
       "      <th>16</th>\n",
       "      <td>Shelley Jensen</td>\n",
       "      <td>6</td>\n",
       "    </tr>\n",
       "    <tr>\n",
       "      <th>8</th>\n",
       "      <td>Robby Benson</td>\n",
       "      <td>6</td>\n",
       "    </tr>\n",
       "  </tbody>\n",
       "</table>\n",
       "</div>"
      ],
      "text/plain": [
       "           Director  Num_episodes\n",
       "17   Gary Halvorson            54\n",
       "9      Kevin Bright            54\n",
       "6   Michael Lembeck            24\n",
       "0     James Burrows            14\n",
       "7      Gail Mancuso            14\n",
       "3      Peter Bonerz            12\n",
       "24        Ben Weiss            10\n",
       "23  David Schwimmer            10\n",
       "16   Shelley Jensen             6\n",
       "8      Robby Benson             6"
      ]
     },
     "execution_count": 161,
     "metadata": {},
     "output_type": "execute_result"
    }
   ],
   "source": [
    "directors =[]\n",
    "num_episodes = []\n",
    "for director in data['Director'].unique():\n",
    "    num_ep = len(data.loc[data['Director'] == director])\n",
    "    directors.append(director)\n",
    "    num_episodes.append(num_ep)\n",
    "\n",
    "num_epis = pd.DataFrame({'Director' : directors, 'Num_episodes' : num_episodes}).sort_values(by=['Num_episodes'], ascending=False)\n",
    "num_epis.head(10)"
   ]
  },
  {
   "cell_type": "code",
   "execution_count": 162,
   "metadata": {},
   "outputs": [
    {
     "data": {
      "text/html": [
       "<div>\n",
       "<style scoped>\n",
       "    .dataframe tbody tr th:only-of-type {\n",
       "        vertical-align: middle;\n",
       "    }\n",
       "\n",
       "    .dataframe tbody tr th {\n",
       "        vertical-align: top;\n",
       "    }\n",
       "\n",
       "    .dataframe thead th {\n",
       "        text-align: right;\n",
       "    }\n",
       "</style>\n",
       "<table border=\"1\" class=\"dataframe\">\n",
       "  <thead>\n",
       "    <tr style=\"text-align: right;\">\n",
       "      <th></th>\n",
       "      <th>Director</th>\n",
       "      <th>Num_episodes</th>\n",
       "    </tr>\n",
       "  </thead>\n",
       "  <tbody>\n",
       "    <tr>\n",
       "      <th>17</th>\n",
       "      <td>Gary Halvorson</td>\n",
       "      <td>54</td>\n",
       "    </tr>\n",
       "    <tr>\n",
       "      <th>9</th>\n",
       "      <td>Kevin Bright</td>\n",
       "      <td>54</td>\n",
       "    </tr>\n",
       "    <tr>\n",
       "      <th>6</th>\n",
       "      <td>Michael Lembeck</td>\n",
       "      <td>24</td>\n",
       "    </tr>\n",
       "    <tr>\n",
       "      <th>0</th>\n",
       "      <td>James Burrows</td>\n",
       "      <td>14</td>\n",
       "    </tr>\n",
       "    <tr>\n",
       "      <th>7</th>\n",
       "      <td>Gail Mancuso</td>\n",
       "      <td>14</td>\n",
       "    </tr>\n",
       "    <tr>\n",
       "      <th>3</th>\n",
       "      <td>Peter Bonerz</td>\n",
       "      <td>12</td>\n",
       "    </tr>\n",
       "    <tr>\n",
       "      <th>24</th>\n",
       "      <td>Ben Weiss</td>\n",
       "      <td>10</td>\n",
       "    </tr>\n",
       "    <tr>\n",
       "      <th>23</th>\n",
       "      <td>David Schwimmer</td>\n",
       "      <td>10</td>\n",
       "    </tr>\n",
       "  </tbody>\n",
       "</table>\n",
       "</div>"
      ],
      "text/plain": [
       "           Director  Num_episodes\n",
       "17   Gary Halvorson            54\n",
       "9      Kevin Bright            54\n",
       "6   Michael Lembeck            24\n",
       "0     James Burrows            14\n",
       "7      Gail Mancuso            14\n",
       "3      Peter Bonerz            12\n",
       "24        Ben Weiss            10\n",
       "23  David Schwimmer            10"
      ]
     },
     "execution_count": 162,
     "metadata": {},
     "output_type": "execute_result"
    }
   ],
   "source": [
    "# Let's consider only directors with 10 episodes or more\n",
    "most_epis_dir = num_epis.loc[num_epis.Num_episodes>=10]\n",
    "most_epis_dir"
   ]
  },
  {
   "cell_type": "code",
   "execution_count": 163,
   "metadata": {
    "scrolled": true
   },
   "outputs": [
    {
     "data": {
      "text/html": [
       "<div>\n",
       "<style scoped>\n",
       "    .dataframe tbody tr th:only-of-type {\n",
       "        vertical-align: middle;\n",
       "    }\n",
       "\n",
       "    .dataframe tbody tr th {\n",
       "        vertical-align: top;\n",
       "    }\n",
       "\n",
       "    .dataframe thead th {\n",
       "        text-align: right;\n",
       "    }\n",
       "</style>\n",
       "<table border=\"1\" class=\"dataframe\">\n",
       "  <thead>\n",
       "    <tr style=\"text-align: right;\">\n",
       "      <th></th>\n",
       "      <th>Director</th>\n",
       "      <th>Stars</th>\n",
       "    </tr>\n",
       "  </thead>\n",
       "  <tbody>\n",
       "    <tr>\n",
       "      <th>5</th>\n",
       "      <td>Kevin Bright</td>\n",
       "      <td>8.646296</td>\n",
       "    </tr>\n",
       "    <tr>\n",
       "      <th>1</th>\n",
       "      <td>David Schwimmer</td>\n",
       "      <td>8.540000</td>\n",
       "    </tr>\n",
       "    <tr>\n",
       "      <th>6</th>\n",
       "      <td>Michael Lembeck</td>\n",
       "      <td>8.520833</td>\n",
       "    </tr>\n",
       "    <tr>\n",
       "      <th>4</th>\n",
       "      <td>James Burrows</td>\n",
       "      <td>8.514286</td>\n",
       "    </tr>\n",
       "    <tr>\n",
       "      <th>3</th>\n",
       "      <td>Gary Halvorson</td>\n",
       "      <td>8.401852</td>\n",
       "    </tr>\n",
       "    <tr>\n",
       "      <th>2</th>\n",
       "      <td>Gail Mancuso</td>\n",
       "      <td>8.357143</td>\n",
       "    </tr>\n",
       "    <tr>\n",
       "      <th>7</th>\n",
       "      <td>Peter Bonerz</td>\n",
       "      <td>8.325000</td>\n",
       "    </tr>\n",
       "    <tr>\n",
       "      <th>0</th>\n",
       "      <td>Ben Weiss</td>\n",
       "      <td>8.300000</td>\n",
       "    </tr>\n",
       "  </tbody>\n",
       "</table>\n",
       "</div>"
      ],
      "text/plain": [
       "          Director     Stars\n",
       "5     Kevin Bright  8.646296\n",
       "1  David Schwimmer  8.540000\n",
       "6  Michael Lembeck  8.520833\n",
       "4    James Burrows  8.514286\n",
       "3   Gary Halvorson  8.401852\n",
       "2     Gail Mancuso  8.357143\n",
       "7     Peter Bonerz  8.325000\n",
       "0        Ben Weiss  8.300000"
      ]
     },
     "execution_count": 163,
     "metadata": {},
     "output_type": "execute_result"
    }
   ],
   "source": [
    "top_directors = most_epis_dir.Director.to_list()\n",
    "\n",
    "top = data[data['Director'].isin(top_directors)]\n",
    "top.groupby('Director', as_index=False)['Stars'].mean().sort_values(by=['Stars'], ascending=False)"
   ]
  },
  {
   "cell_type": "markdown",
   "metadata": {},
   "source": [
    "It looks like Kevin Bright had the biggest number of episodes directed and also the highest rank!\n",
    "Let's try to further understand the episodes he directed."
   ]
  },
  {
   "cell_type": "code",
   "execution_count": 168,
   "metadata": {},
   "outputs": [
    {
     "data": {
      "text/html": [
       "<div>\n",
       "<style scoped>\n",
       "    .dataframe tbody tr th:only-of-type {\n",
       "        vertical-align: middle;\n",
       "    }\n",
       "\n",
       "    .dataframe tbody tr th {\n",
       "        vertical-align: top;\n",
       "    }\n",
       "\n",
       "    .dataframe thead th {\n",
       "        text-align: right;\n",
       "    }\n",
       "</style>\n",
       "<table border=\"1\" class=\"dataframe\">\n",
       "  <thead>\n",
       "    <tr style=\"text-align: right;\">\n",
       "      <th></th>\n",
       "      <th>Season</th>\n",
       "      <th>Episode_Title</th>\n",
       "      <th>Stars</th>\n",
       "      <th>Director</th>\n",
       "    </tr>\n",
       "  </thead>\n",
       "  <tbody>\n",
       "    <tr>\n",
       "      <th>234</th>\n",
       "      <td>10</td>\n",
       "      <td>The Last One</td>\n",
       "      <td>9.7</td>\n",
       "      <td>Kevin Bright</td>\n",
       "    </tr>\n",
       "    <tr>\n",
       "      <th>233</th>\n",
       "      <td>10</td>\n",
       "      <td>The last one (Part 2)</td>\n",
       "      <td>9.5</td>\n",
       "      <td>Kevin Bright</td>\n",
       "    </tr>\n",
       "    <tr>\n",
       "      <th>83</th>\n",
       "      <td>4</td>\n",
       "      <td>The One with the Embryos</td>\n",
       "      <td>9.5</td>\n",
       "      <td>Kevin Bright</td>\n",
       "    </tr>\n",
       "    <tr>\n",
       "      <th>144</th>\n",
       "      <td>6</td>\n",
       "      <td>The One with the Proposal</td>\n",
       "      <td>9.3</td>\n",
       "      <td>Kevin Bright</td>\n",
       "    </tr>\n",
       "    <tr>\n",
       "      <th>172</th>\n",
       "      <td>8</td>\n",
       "      <td>The One with the Videotape</td>\n",
       "      <td>9.3</td>\n",
       "      <td>Kevin Bright</td>\n",
       "    </tr>\n",
       "    <tr>\n",
       "      <th>168</th>\n",
       "      <td>7</td>\n",
       "      <td>The One with Monica and Chandler's Wedding: Pa...</td>\n",
       "      <td>9.2</td>\n",
       "      <td>Kevin Bright</td>\n",
       "    </tr>\n",
       "    <tr>\n",
       "      <th>95</th>\n",
       "      <td>4</td>\n",
       "      <td>The One with Ross's Wedding</td>\n",
       "      <td>9.2</td>\n",
       "      <td>Kevin Bright</td>\n",
       "    </tr>\n",
       "  </tbody>\n",
       "</table>\n",
       "</div>"
      ],
      "text/plain": [
       "     Season                                      Episode_Title  Stars  \\\n",
       "234      10                                       The Last One    9.7   \n",
       "233      10                              The last one (Part 2)    9.5   \n",
       "83        4                           The One with the Embryos    9.5   \n",
       "144       6                          The One with the Proposal    9.3   \n",
       "172       8                         The One with the Videotape    9.3   \n",
       "168       7  The One with Monica and Chandler's Wedding: Pa...    9.2   \n",
       "95        4                        The One with Ross's Wedding    9.2   \n",
       "\n",
       "         Director  \n",
       "234  Kevin Bright  \n",
       "233  Kevin Bright  \n",
       "83   Kevin Bright  \n",
       "144  Kevin Bright  \n",
       "172  Kevin Bright  \n",
       "168  Kevin Bright  \n",
       "95   Kevin Bright  "
      ]
     },
     "execution_count": 168,
     "metadata": {},
     "output_type": "execute_result"
    }
   ],
   "source": [
    "top_ten.loc[top_ten['Director']=='Kevin Bright']"
   ]
  },
  {
   "cell_type": "markdown",
   "metadata": {},
   "source": [
    "7 out the 10 top ranked episodes were directed by Kevin Bright."
   ]
  }
 ],
 "metadata": {
  "kernelspec": {
   "display_name": "Python 3",
   "language": "python",
   "name": "python3"
  },
  "language_info": {
   "codemirror_mode": {
    "name": "ipython",
    "version": 3
   },
   "file_extension": ".py",
   "mimetype": "text/x-python",
   "name": "python",
   "nbconvert_exporter": "python",
   "pygments_lexer": "ipython3",
   "version": "3.7.6"
  }
 },
 "nbformat": 4,
 "nbformat_minor": 4
}
